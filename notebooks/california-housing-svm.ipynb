{
 "cells": [
  {
   "cell_type": "code",
   "execution_count": 1,
   "id": "5aceda25",
   "metadata": {
    "papermill": {
     "duration": 2.115975,
     "end_time": "2023-10-04T09:28:06.258628",
     "exception": false,
     "start_time": "2023-10-04T09:28:04.142653",
     "status": "completed"
    },
    "tags": []
   },
   "outputs": [],
   "source": [
    "import pandas as pd\n",
    "import numpy as np\n",
    "import matplotlib.pyplot as plt\n",
    "import seaborn as sns\n",
    "import plotly.express as px\n",
    "import re\n",
    "import random\n",
    "from sklearn.svm import SVR\n",
    "from sklearn.preprocessing import MinMaxScaler,StandardScaler,OneHotEncoder,LabelEncoder,PowerTransformer\n",
    "from sklearn.pipeline import Pipeline\n",
    "from sklearn.model_selection import train_test_split\n",
    "from sklearn.metrics import mean_squared_error,mean_absolute_error,r2_score,d2_pinball_score\n",
    "import pycaret"
   ]
  },
  {
   "cell_type": "code",
   "execution_count": 2,
   "id": "189a973a",
   "metadata": {
    "papermill": {
     "duration": 0.098347,
     "end_time": "2023-10-04T09:28:06.372953",
     "exception": false,
     "start_time": "2023-10-04T09:28:06.274606",
     "status": "completed"
    },
    "tags": []
   },
   "outputs": [
    {
     "data": {
      "text/html": [
       "<div>\n",
       "<style scoped>\n",
       "    .dataframe tbody tr th:only-of-type {\n",
       "        vertical-align: middle;\n",
       "    }\n",
       "\n",
       "    .dataframe tbody tr th {\n",
       "        vertical-align: top;\n",
       "    }\n",
       "\n",
       "    .dataframe thead th {\n",
       "        text-align: right;\n",
       "    }\n",
       "</style>\n",
       "<table border=\"1\" class=\"dataframe\">\n",
       "  <thead>\n",
       "    <tr style=\"text-align: right;\">\n",
       "      <th></th>\n",
       "      <th>longitude</th>\n",
       "      <th>latitude</th>\n",
       "      <th>housing_median_age</th>\n",
       "      <th>total_rooms</th>\n",
       "      <th>total_bedrooms</th>\n",
       "      <th>population</th>\n",
       "      <th>households</th>\n",
       "      <th>median_income</th>\n",
       "      <th>median_house_value</th>\n",
       "      <th>ocean_proximity</th>\n",
       "    </tr>\n",
       "  </thead>\n",
       "  <tbody>\n",
       "    <tr>\n",
       "      <th>0</th>\n",
       "      <td>-122.23</td>\n",
       "      <td>37.88</td>\n",
       "      <td>41.0</td>\n",
       "      <td>880.0</td>\n",
       "      <td>129.0</td>\n",
       "      <td>322.0</td>\n",
       "      <td>126.0</td>\n",
       "      <td>8.3252</td>\n",
       "      <td>452600.0</td>\n",
       "      <td>NEAR BAY</td>\n",
       "    </tr>\n",
       "    <tr>\n",
       "      <th>1</th>\n",
       "      <td>-122.22</td>\n",
       "      <td>37.86</td>\n",
       "      <td>21.0</td>\n",
       "      <td>7099.0</td>\n",
       "      <td>1106.0</td>\n",
       "      <td>2401.0</td>\n",
       "      <td>1138.0</td>\n",
       "      <td>8.3014</td>\n",
       "      <td>358500.0</td>\n",
       "      <td>NEAR BAY</td>\n",
       "    </tr>\n",
       "    <tr>\n",
       "      <th>2</th>\n",
       "      <td>-122.24</td>\n",
       "      <td>37.85</td>\n",
       "      <td>52.0</td>\n",
       "      <td>1467.0</td>\n",
       "      <td>190.0</td>\n",
       "      <td>496.0</td>\n",
       "      <td>177.0</td>\n",
       "      <td>7.2574</td>\n",
       "      <td>352100.0</td>\n",
       "      <td>NEAR BAY</td>\n",
       "    </tr>\n",
       "    <tr>\n",
       "      <th>3</th>\n",
       "      <td>-122.25</td>\n",
       "      <td>37.85</td>\n",
       "      <td>52.0</td>\n",
       "      <td>1274.0</td>\n",
       "      <td>235.0</td>\n",
       "      <td>558.0</td>\n",
       "      <td>219.0</td>\n",
       "      <td>5.6431</td>\n",
       "      <td>341300.0</td>\n",
       "      <td>NEAR BAY</td>\n",
       "    </tr>\n",
       "    <tr>\n",
       "      <th>4</th>\n",
       "      <td>-122.25</td>\n",
       "      <td>37.85</td>\n",
       "      <td>52.0</td>\n",
       "      <td>1627.0</td>\n",
       "      <td>280.0</td>\n",
       "      <td>565.0</td>\n",
       "      <td>259.0</td>\n",
       "      <td>3.8462</td>\n",
       "      <td>342200.0</td>\n",
       "      <td>NEAR BAY</td>\n",
       "    </tr>\n",
       "    <tr>\n",
       "      <th>...</th>\n",
       "      <td>...</td>\n",
       "      <td>...</td>\n",
       "      <td>...</td>\n",
       "      <td>...</td>\n",
       "      <td>...</td>\n",
       "      <td>...</td>\n",
       "      <td>...</td>\n",
       "      <td>...</td>\n",
       "      <td>...</td>\n",
       "      <td>...</td>\n",
       "    </tr>\n",
       "    <tr>\n",
       "      <th>20635</th>\n",
       "      <td>-121.09</td>\n",
       "      <td>39.48</td>\n",
       "      <td>25.0</td>\n",
       "      <td>1665.0</td>\n",
       "      <td>374.0</td>\n",
       "      <td>845.0</td>\n",
       "      <td>330.0</td>\n",
       "      <td>1.5603</td>\n",
       "      <td>78100.0</td>\n",
       "      <td>INLAND</td>\n",
       "    </tr>\n",
       "    <tr>\n",
       "      <th>20636</th>\n",
       "      <td>-121.21</td>\n",
       "      <td>39.49</td>\n",
       "      <td>18.0</td>\n",
       "      <td>697.0</td>\n",
       "      <td>150.0</td>\n",
       "      <td>356.0</td>\n",
       "      <td>114.0</td>\n",
       "      <td>2.5568</td>\n",
       "      <td>77100.0</td>\n",
       "      <td>INLAND</td>\n",
       "    </tr>\n",
       "    <tr>\n",
       "      <th>20637</th>\n",
       "      <td>-121.22</td>\n",
       "      <td>39.43</td>\n",
       "      <td>17.0</td>\n",
       "      <td>2254.0</td>\n",
       "      <td>485.0</td>\n",
       "      <td>1007.0</td>\n",
       "      <td>433.0</td>\n",
       "      <td>1.7000</td>\n",
       "      <td>92300.0</td>\n",
       "      <td>INLAND</td>\n",
       "    </tr>\n",
       "    <tr>\n",
       "      <th>20638</th>\n",
       "      <td>-121.32</td>\n",
       "      <td>39.43</td>\n",
       "      <td>18.0</td>\n",
       "      <td>1860.0</td>\n",
       "      <td>409.0</td>\n",
       "      <td>741.0</td>\n",
       "      <td>349.0</td>\n",
       "      <td>1.8672</td>\n",
       "      <td>84700.0</td>\n",
       "      <td>INLAND</td>\n",
       "    </tr>\n",
       "    <tr>\n",
       "      <th>20639</th>\n",
       "      <td>-121.24</td>\n",
       "      <td>39.37</td>\n",
       "      <td>16.0</td>\n",
       "      <td>2785.0</td>\n",
       "      <td>616.0</td>\n",
       "      <td>1387.0</td>\n",
       "      <td>530.0</td>\n",
       "      <td>2.3886</td>\n",
       "      <td>89400.0</td>\n",
       "      <td>INLAND</td>\n",
       "    </tr>\n",
       "  </tbody>\n",
       "</table>\n",
       "<p>20640 rows × 10 columns</p>\n",
       "</div>"
      ],
      "text/plain": [
       "       longitude  latitude  housing_median_age  total_rooms  total_bedrooms  \\\n",
       "0        -122.23     37.88                41.0        880.0           129.0   \n",
       "1        -122.22     37.86                21.0       7099.0          1106.0   \n",
       "2        -122.24     37.85                52.0       1467.0           190.0   \n",
       "3        -122.25     37.85                52.0       1274.0           235.0   \n",
       "4        -122.25     37.85                52.0       1627.0           280.0   \n",
       "...          ...       ...                 ...          ...             ...   \n",
       "20635    -121.09     39.48                25.0       1665.0           374.0   \n",
       "20636    -121.21     39.49                18.0        697.0           150.0   \n",
       "20637    -121.22     39.43                17.0       2254.0           485.0   \n",
       "20638    -121.32     39.43                18.0       1860.0           409.0   \n",
       "20639    -121.24     39.37                16.0       2785.0           616.0   \n",
       "\n",
       "       population  households  median_income  median_house_value  \\\n",
       "0           322.0       126.0         8.3252            452600.0   \n",
       "1          2401.0      1138.0         8.3014            358500.0   \n",
       "2           496.0       177.0         7.2574            352100.0   \n",
       "3           558.0       219.0         5.6431            341300.0   \n",
       "4           565.0       259.0         3.8462            342200.0   \n",
       "...           ...         ...            ...                 ...   \n",
       "20635       845.0       330.0         1.5603             78100.0   \n",
       "20636       356.0       114.0         2.5568             77100.0   \n",
       "20637      1007.0       433.0         1.7000             92300.0   \n",
       "20638       741.0       349.0         1.8672             84700.0   \n",
       "20639      1387.0       530.0         2.3886             89400.0   \n",
       "\n",
       "      ocean_proximity  \n",
       "0            NEAR BAY  \n",
       "1            NEAR BAY  \n",
       "2            NEAR BAY  \n",
       "3            NEAR BAY  \n",
       "4            NEAR BAY  \n",
       "...               ...  \n",
       "20635          INLAND  \n",
       "20636          INLAND  \n",
       "20637          INLAND  \n",
       "20638          INLAND  \n",
       "20639          INLAND  \n",
       "\n",
       "[20640 rows x 10 columns]"
      ]
     },
     "execution_count": 2,
     "metadata": {},
     "output_type": "execute_result"
    }
   ],
   "source": [
    "df = pd.read_csv('../data/housing.csv', skipinitialspace=True)\n",
    "df"
   ]
  },
  {
   "cell_type": "code",
   "execution_count": 3,
   "id": "b42e71ce",
   "metadata": {
    "papermill": {
     "duration": 0.038464,
     "end_time": "2023-10-04T09:28:06.427131",
     "exception": false,
     "start_time": "2023-10-04T09:28:06.388667",
     "status": "completed"
    },
    "tags": []
   },
   "outputs": [
    {
     "name": "stdout",
     "output_type": "stream",
     "text": [
      "<class 'pandas.core.frame.DataFrame'>\n",
      "RangeIndex: 20640 entries, 0 to 20639\n",
      "Data columns (total 10 columns):\n",
      " #   Column              Non-Null Count  Dtype  \n",
      "---  ------              --------------  -----  \n",
      " 0   longitude           20640 non-null  float64\n",
      " 1   latitude            20640 non-null  float64\n",
      " 2   housing_median_age  20640 non-null  float64\n",
      " 3   total_rooms         20640 non-null  float64\n",
      " 4   total_bedrooms      20433 non-null  float64\n",
      " 5   population          20640 non-null  float64\n",
      " 6   households          20640 non-null  float64\n",
      " 7   median_income       20640 non-null  float64\n",
      " 8   median_house_value  20640 non-null  float64\n",
      " 9   ocean_proximity     20640 non-null  object \n",
      "dtypes: float64(9), object(1)\n",
      "memory usage: 1.6+ MB\n"
     ]
    }
   ],
   "source": [
    "df.info()"
   ]
  },
  {
   "cell_type": "code",
   "execution_count": 4,
   "id": "1b138d63",
   "metadata": {
    "papermill": {
     "duration": 0.023101,
     "end_time": "2023-10-04T09:28:06.466038",
     "exception": false,
     "start_time": "2023-10-04T09:28:06.442937",
     "status": "completed"
    },
    "tags": []
   },
   "outputs": [],
   "source": [
    "null_index_list = df[pd.isna(df['total_bedrooms'])].index"
   ]
  },
  {
   "cell_type": "code",
   "execution_count": 5,
   "id": "52818728",
   "metadata": {
    "papermill": {
     "duration": 0.032343,
     "end_time": "2023-10-04T09:28:06.513327",
     "exception": false,
     "start_time": "2023-10-04T09:28:06.480984",
     "status": "completed"
    },
    "tags": []
   },
   "outputs": [
    {
     "data": {
      "text/plain": [
       "0"
      ]
     },
     "execution_count": 5,
     "metadata": {},
     "output_type": "execute_result"
    }
   ],
   "source": [
    "df.duplicated().sum()"
   ]
  },
  {
   "cell_type": "code",
   "execution_count": 6,
   "id": "d6c1abe8",
   "metadata": {
    "papermill": {
     "duration": 2.571864,
     "end_time": "2023-10-04T09:28:09.100340",
     "exception": false,
     "start_time": "2023-10-04T09:28:06.528476",
     "status": "completed"
    },
    "tags": []
   },
   "outputs": [],
   "source": [
    "from pycaret.regression import RegressionExperiment\n",
    "reg = RegressionExperiment()"
   ]
  },
  {
   "cell_type": "code",
   "execution_count": 7,
   "id": "5ffb6a47",
   "metadata": {
    "papermill": {
     "duration": 3.486905,
     "end_time": "2023-10-04T09:28:12.603694",
     "exception": false,
     "start_time": "2023-10-04T09:28:09.116789",
     "status": "completed"
    },
    "tags": []
   },
   "outputs": [
    {
     "data": {
      "text/html": [
       "<style type=\"text/css\">\n",
       "#T_ad98d_row10_col1 {\n",
       "  background-color: lightgreen;\n",
       "}\n",
       "</style>\n",
       "<table id=\"T_ad98d\">\n",
       "  <thead>\n",
       "    <tr>\n",
       "      <th class=\"blank level0\" >&nbsp;</th>\n",
       "      <th id=\"T_ad98d_level0_col0\" class=\"col_heading level0 col0\" >Description</th>\n",
       "      <th id=\"T_ad98d_level0_col1\" class=\"col_heading level0 col1\" >Value</th>\n",
       "    </tr>\n",
       "  </thead>\n",
       "  <tbody>\n",
       "    <tr>\n",
       "      <th id=\"T_ad98d_level0_row0\" class=\"row_heading level0 row0\" >0</th>\n",
       "      <td id=\"T_ad98d_row0_col0\" class=\"data row0 col0\" >Session id</td>\n",
       "      <td id=\"T_ad98d_row0_col1\" class=\"data row0 col1\" >260</td>\n",
       "    </tr>\n",
       "    <tr>\n",
       "      <th id=\"T_ad98d_level0_row1\" class=\"row_heading level0 row1\" >1</th>\n",
       "      <td id=\"T_ad98d_row1_col0\" class=\"data row1 col0\" >Target</td>\n",
       "      <td id=\"T_ad98d_row1_col1\" class=\"data row1 col1\" >median_house_value</td>\n",
       "    </tr>\n",
       "    <tr>\n",
       "      <th id=\"T_ad98d_level0_row2\" class=\"row_heading level0 row2\" >2</th>\n",
       "      <td id=\"T_ad98d_row2_col0\" class=\"data row2 col0\" >Target type</td>\n",
       "      <td id=\"T_ad98d_row2_col1\" class=\"data row2 col1\" >Regression</td>\n",
       "    </tr>\n",
       "    <tr>\n",
       "      <th id=\"T_ad98d_level0_row3\" class=\"row_heading level0 row3\" >3</th>\n",
       "      <td id=\"T_ad98d_row3_col0\" class=\"data row3 col0\" >Original data shape</td>\n",
       "      <td id=\"T_ad98d_row3_col1\" class=\"data row3 col1\" >(20640, 10)</td>\n",
       "    </tr>\n",
       "    <tr>\n",
       "      <th id=\"T_ad98d_level0_row4\" class=\"row_heading level0 row4\" >4</th>\n",
       "      <td id=\"T_ad98d_row4_col0\" class=\"data row4 col0\" >Transformed data shape</td>\n",
       "      <td id=\"T_ad98d_row4_col1\" class=\"data row4 col1\" >(20640, 14)</td>\n",
       "    </tr>\n",
       "    <tr>\n",
       "      <th id=\"T_ad98d_level0_row5\" class=\"row_heading level0 row5\" >5</th>\n",
       "      <td id=\"T_ad98d_row5_col0\" class=\"data row5 col0\" >Transformed train set shape</td>\n",
       "      <td id=\"T_ad98d_row5_col1\" class=\"data row5 col1\" >(14447, 14)</td>\n",
       "    </tr>\n",
       "    <tr>\n",
       "      <th id=\"T_ad98d_level0_row6\" class=\"row_heading level0 row6\" >6</th>\n",
       "      <td id=\"T_ad98d_row6_col0\" class=\"data row6 col0\" >Transformed test set shape</td>\n",
       "      <td id=\"T_ad98d_row6_col1\" class=\"data row6 col1\" >(6193, 14)</td>\n",
       "    </tr>\n",
       "    <tr>\n",
       "      <th id=\"T_ad98d_level0_row7\" class=\"row_heading level0 row7\" >7</th>\n",
       "      <td id=\"T_ad98d_row7_col0\" class=\"data row7 col0\" >Numeric features</td>\n",
       "      <td id=\"T_ad98d_row7_col1\" class=\"data row7 col1\" >8</td>\n",
       "    </tr>\n",
       "    <tr>\n",
       "      <th id=\"T_ad98d_level0_row8\" class=\"row_heading level0 row8\" >8</th>\n",
       "      <td id=\"T_ad98d_row8_col0\" class=\"data row8 col0\" >Categorical features</td>\n",
       "      <td id=\"T_ad98d_row8_col1\" class=\"data row8 col1\" >1</td>\n",
       "    </tr>\n",
       "    <tr>\n",
       "      <th id=\"T_ad98d_level0_row9\" class=\"row_heading level0 row9\" >9</th>\n",
       "      <td id=\"T_ad98d_row9_col0\" class=\"data row9 col0\" >Rows with missing values</td>\n",
       "      <td id=\"T_ad98d_row9_col1\" class=\"data row9 col1\" >1.0%</td>\n",
       "    </tr>\n",
       "    <tr>\n",
       "      <th id=\"T_ad98d_level0_row10\" class=\"row_heading level0 row10\" >10</th>\n",
       "      <td id=\"T_ad98d_row10_col0\" class=\"data row10 col0\" >Preprocess</td>\n",
       "      <td id=\"T_ad98d_row10_col1\" class=\"data row10 col1\" >True</td>\n",
       "    </tr>\n",
       "    <tr>\n",
       "      <th id=\"T_ad98d_level0_row11\" class=\"row_heading level0 row11\" >11</th>\n",
       "      <td id=\"T_ad98d_row11_col0\" class=\"data row11 col0\" >Imputation type</td>\n",
       "      <td id=\"T_ad98d_row11_col1\" class=\"data row11 col1\" >simple</td>\n",
       "    </tr>\n",
       "    <tr>\n",
       "      <th id=\"T_ad98d_level0_row12\" class=\"row_heading level0 row12\" >12</th>\n",
       "      <td id=\"T_ad98d_row12_col0\" class=\"data row12 col0\" >Numeric imputation</td>\n",
       "      <td id=\"T_ad98d_row12_col1\" class=\"data row12 col1\" >mean</td>\n",
       "    </tr>\n",
       "    <tr>\n",
       "      <th id=\"T_ad98d_level0_row13\" class=\"row_heading level0 row13\" >13</th>\n",
       "      <td id=\"T_ad98d_row13_col0\" class=\"data row13 col0\" >Categorical imputation</td>\n",
       "      <td id=\"T_ad98d_row13_col1\" class=\"data row13 col1\" >mode</td>\n",
       "    </tr>\n",
       "    <tr>\n",
       "      <th id=\"T_ad98d_level0_row14\" class=\"row_heading level0 row14\" >14</th>\n",
       "      <td id=\"T_ad98d_row14_col0\" class=\"data row14 col0\" >Maximum one-hot encoding</td>\n",
       "      <td id=\"T_ad98d_row14_col1\" class=\"data row14 col1\" >25</td>\n",
       "    </tr>\n",
       "    <tr>\n",
       "      <th id=\"T_ad98d_level0_row15\" class=\"row_heading level0 row15\" >15</th>\n",
       "      <td id=\"T_ad98d_row15_col0\" class=\"data row15 col0\" >Encoding method</td>\n",
       "      <td id=\"T_ad98d_row15_col1\" class=\"data row15 col1\" >None</td>\n",
       "    </tr>\n",
       "    <tr>\n",
       "      <th id=\"T_ad98d_level0_row16\" class=\"row_heading level0 row16\" >16</th>\n",
       "      <td id=\"T_ad98d_row16_col0\" class=\"data row16 col0\" >Fold Generator</td>\n",
       "      <td id=\"T_ad98d_row16_col1\" class=\"data row16 col1\" >KFold</td>\n",
       "    </tr>\n",
       "    <tr>\n",
       "      <th id=\"T_ad98d_level0_row17\" class=\"row_heading level0 row17\" >17</th>\n",
       "      <td id=\"T_ad98d_row17_col0\" class=\"data row17 col0\" >Fold Number</td>\n",
       "      <td id=\"T_ad98d_row17_col1\" class=\"data row17 col1\" >10</td>\n",
       "    </tr>\n",
       "    <tr>\n",
       "      <th id=\"T_ad98d_level0_row18\" class=\"row_heading level0 row18\" >18</th>\n",
       "      <td id=\"T_ad98d_row18_col0\" class=\"data row18 col0\" >CPU Jobs</td>\n",
       "      <td id=\"T_ad98d_row18_col1\" class=\"data row18 col1\" >-1</td>\n",
       "    </tr>\n",
       "    <tr>\n",
       "      <th id=\"T_ad98d_level0_row19\" class=\"row_heading level0 row19\" >19</th>\n",
       "      <td id=\"T_ad98d_row19_col0\" class=\"data row19 col0\" >Use GPU</td>\n",
       "      <td id=\"T_ad98d_row19_col1\" class=\"data row19 col1\" >False</td>\n",
       "    </tr>\n",
       "    <tr>\n",
       "      <th id=\"T_ad98d_level0_row20\" class=\"row_heading level0 row20\" >20</th>\n",
       "      <td id=\"T_ad98d_row20_col0\" class=\"data row20 col0\" >Log Experiment</td>\n",
       "      <td id=\"T_ad98d_row20_col1\" class=\"data row20 col1\" >False</td>\n",
       "    </tr>\n",
       "    <tr>\n",
       "      <th id=\"T_ad98d_level0_row21\" class=\"row_heading level0 row21\" >21</th>\n",
       "      <td id=\"T_ad98d_row21_col0\" class=\"data row21 col0\" >Experiment Name</td>\n",
       "      <td id=\"T_ad98d_row21_col1\" class=\"data row21 col1\" >reg-default-name</td>\n",
       "    </tr>\n",
       "    <tr>\n",
       "      <th id=\"T_ad98d_level0_row22\" class=\"row_heading level0 row22\" >22</th>\n",
       "      <td id=\"T_ad98d_row22_col0\" class=\"data row22 col0\" >USI</td>\n",
       "      <td id=\"T_ad98d_row22_col1\" class=\"data row22 col1\" >c266</td>\n",
       "    </tr>\n",
       "  </tbody>\n",
       "</table>\n"
      ],
      "text/plain": [
       "<pandas.io.formats.style.Styler at 0x7f42ad0fbd60>"
      ]
     },
     "metadata": {},
     "output_type": "display_data"
    },
    {
     "data": {
      "text/plain": [
       "<pycaret.regression.oop.RegressionExperiment at 0x7f42b11cbee0>"
      ]
     },
     "execution_count": 7,
     "metadata": {},
     "output_type": "execute_result"
    }
   ],
   "source": [
    "reg.setup(df,target='median_house_value')"
   ]
  },
  {
   "cell_type": "code",
   "execution_count": 8,
   "id": "73f2d5b7",
   "metadata": {
    "papermill": {
     "duration": 125.503026,
     "end_time": "2023-10-04T09:30:18.122207",
     "exception": false,
     "start_time": "2023-10-04T09:28:12.619181",
     "status": "completed"
    },
    "tags": []
   },
   "outputs": [],
   "source": [
    "# best = reg.compare_models()"
   ]
  },
  {
   "cell_type": "code",
   "execution_count": 9,
   "id": "74334a3f",
   "metadata": {
    "papermill": {
     "duration": 0.027462,
     "end_time": "2023-10-04T09:30:18.166314",
     "exception": false,
     "start_time": "2023-10-04T09:30:18.138852",
     "status": "completed"
    },
    "tags": []
   },
   "outputs": [
    {
     "name": "stdout",
     "output_type": "stream",
     "text": [
      "frequency-->[55 51 50 49 49 48 48 48 47 47]\n",
      "value-->Float64Index([280.0, 331.0, 345.0, 343.0, 393.0, 328.0, 348.0, 394.0, 272.0,\n",
      "              309.0],\n",
      "             dtype='float64')\n"
     ]
    }
   ],
   "source": [
    "print(f\"frequency-->{df['total_bedrooms'].value_counts().values[:10]}\")\n",
    "print(f\"value-->{df['total_bedrooms'].value_counts().keys()[:10]}\")"
   ]
  },
  {
   "cell_type": "markdown",
   "id": "e5821358",
   "metadata": {
    "papermill": {
     "duration": 0.015787,
     "end_time": "2023-10-04T09:30:18.198499",
     "exception": false,
     "start_time": "2023-10-04T09:30:18.182712",
     "status": "completed"
    },
    "tags": []
   },
   "source": [
    "# gonna fill null values with the top 10 most frequent unique values,since uniques have very close frequency🛠️"
   ]
  },
  {
   "cell_type": "code",
   "execution_count": 10,
   "id": "ff691d1e",
   "metadata": {
    "papermill": {
     "duration": 0.026784,
     "end_time": "2023-10-04T09:30:18.241500",
     "exception": false,
     "start_time": "2023-10-04T09:30:18.214716",
     "status": "completed"
    },
    "tags": []
   },
   "outputs": [],
   "source": [
    "class Do(LabelEncoder):\n",
    "    def __init__(self,**kwargs):\n",
    "        super().__init__(**kwargs)\n",
    "        \n",
    "    def filling(self):\n",
    "        for index in range(len(df.index)):\n",
    "            if pd.isna(df.loc[index,'total_bedrooms']):\n",
    "                df.loc[index,'total_bedrooms']=random.choice(df['total_bedrooms'].value_counts().keys()[:10])\n",
    "            else:\n",
    "                continue\n",
    "\n",
    "        print('Done')\n",
    "        for index in null_index_list[:10]:\n",
    "            print(df.loc[index,'total_bedrooms'])\n",
    "            \n",
    "    def check_sign(self):\n",
    "        for column in df.columns:\n",
    "            for index,value in enumerate(df[column].unique()):\n",
    "                if re.search(r'[^\\w\\s]',str(value)):\n",
    "                    if '.' not in list(str(value)):\n",
    "                        print(f'{column}--> {value}--> {index}')\n",
    "                        \n",
    "    def give_num_unique(self):\n",
    "        for column in df.columns:\n",
    "            print(f\"{column}--> {len(df[column].unique())}\")\n",
    "            \n",
    "    def encode(self):\n",
    "        LEN = LabelEncoder()\n",
    "        df['ocean_proximity'] = LEN.fit_transform(df['ocean_proximity'])\n",
    "        \n",
    "    \n",
    "        \n"
   ]
  },
  {
   "cell_type": "code",
   "execution_count": 11,
   "id": "afe9aa7d",
   "metadata": {
    "papermill": {
     "duration": 0.389111,
     "end_time": "2023-10-04T09:30:18.646357",
     "exception": false,
     "start_time": "2023-10-04T09:30:18.257246",
     "status": "completed"
    },
    "tags": []
   },
   "outputs": [
    {
     "name": "stdout",
     "output_type": "stream",
     "text": [
      "Done\n",
      "272.0\n",
      "272.0\n",
      "343.0\n",
      "328.0\n",
      "393.0\n",
      "272.0\n",
      "393.0\n",
      "345.0\n",
      "345.0\n",
      "280.0\n"
     ]
    }
   ],
   "source": [
    "Do().filling()"
   ]
  },
  {
   "cell_type": "code",
   "execution_count": 12,
   "id": "eb2a7157",
   "metadata": {
    "papermill": {
     "duration": 0.028583,
     "end_time": "2023-10-04T09:30:18.691797",
     "exception": false,
     "start_time": "2023-10-04T09:30:18.663214",
     "status": "completed"
    },
    "tags": []
   },
   "outputs": [
    {
     "data": {
      "text/plain": [
       "0"
      ]
     },
     "execution_count": 12,
     "metadata": {},
     "output_type": "execute_result"
    }
   ],
   "source": [
    "df.isnull().sum().sum()"
   ]
  },
  {
   "cell_type": "code",
   "execution_count": 13,
   "id": "38be0a33",
   "metadata": {
    "papermill": {
     "duration": 0.088679,
     "end_time": "2023-10-04T09:30:18.797051",
     "exception": false,
     "start_time": "2023-10-04T09:30:18.708372",
     "status": "completed"
    },
    "tags": []
   },
   "outputs": [
    {
     "name": "stdout",
     "output_type": "stream",
     "text": [
      "ocean_proximity--> <1H OCEAN--> 1\n"
     ]
    }
   ],
   "source": [
    "Do().check_sign()"
   ]
  },
  {
   "cell_type": "markdown",
   "id": "7728c19a",
   "metadata": {
    "papermill": {
     "duration": 0.015554,
     "end_time": "2023-10-04T09:30:18.828904",
     "exception": false,
     "start_time": "2023-10-04T09:30:18.813350",
     "status": "completed"
    },
    "tags": []
   },
   "source": [
    "# OK, we are now sure there is no irrational value like '?' "
   ]
  },
  {
   "cell_type": "code",
   "execution_count": 14,
   "id": "d845fefc",
   "metadata": {
    "papermill": {
     "duration": 0.028332,
     "end_time": "2023-10-04T09:30:18.873099",
     "exception": false,
     "start_time": "2023-10-04T09:30:18.844767",
     "status": "completed"
    },
    "tags": []
   },
   "outputs": [
    {
     "name": "stdout",
     "output_type": "stream",
     "text": [
      "longitude--> 844\n",
      "latitude--> 862\n",
      "housing_median_age--> 52\n",
      "total_rooms--> 5926\n",
      "total_bedrooms--> 1923\n",
      "population--> 3888\n",
      "households--> 1815\n",
      "median_income--> 12928\n",
      "median_house_value--> 3842\n",
      "ocean_proximity--> 5\n"
     ]
    }
   ],
   "source": [
    "Do().give_num_unique()"
   ]
  },
  {
   "cell_type": "code",
   "execution_count": 15,
   "id": "cf9d9919",
   "metadata": {
    "papermill": {
     "duration": 0.026729,
     "end_time": "2023-10-04T09:30:18.915987",
     "exception": false,
     "start_time": "2023-10-04T09:30:18.889258",
     "status": "completed"
    },
    "tags": []
   },
   "outputs": [],
   "source": [
    "Do().encode()\n"
   ]
  },
  {
   "cell_type": "code",
   "execution_count": 16,
   "id": "b81ad479",
   "metadata": {
    "papermill": {
     "duration": 0.026149,
     "end_time": "2023-10-04T09:30:18.958188",
     "exception": false,
     "start_time": "2023-10-04T09:30:18.932039",
     "status": "completed"
    },
    "tags": []
   },
   "outputs": [
    {
     "data": {
      "text/plain": [
       "0    9136\n",
       "1    6551\n",
       "4    2658\n",
       "3    2290\n",
       "2       5\n",
       "Name: ocean_proximity, dtype: int64"
      ]
     },
     "execution_count": 16,
     "metadata": {},
     "output_type": "execute_result"
    }
   ],
   "source": [
    "df['ocean_proximity'].value_counts()"
   ]
  },
  {
   "cell_type": "code",
   "execution_count": 17,
   "id": "a2fe8e48",
   "metadata": {
    "papermill": {
     "duration": 0.032186,
     "end_time": "2023-10-04T09:30:19.006142",
     "exception": false,
     "start_time": "2023-10-04T09:30:18.973956",
     "status": "completed"
    },
    "tags": []
   },
   "outputs": [
    {
     "data": {
      "text/plain": [
       "median_house_value    1.000000\n",
       "median_income         0.688075\n",
       "total_rooms           0.134153\n",
       "housing_median_age    0.105623\n",
       "ocean_proximity       0.081750\n",
       "households            0.065843\n",
       "total_bedrooms        0.049410\n",
       "population           -0.024650\n",
       "longitude            -0.045967\n",
       "latitude             -0.144160\n",
       "Name: median_house_value, dtype: float64"
      ]
     },
     "execution_count": 17,
     "metadata": {},
     "output_type": "execute_result"
    }
   ],
   "source": [
    "cor = df.corr()\n",
    "cor['median_house_value'].sort_values(ascending=False)"
   ]
  },
  {
   "cell_type": "code",
   "execution_count": 18,
   "id": "a65577ea",
   "metadata": {
    "papermill": {
     "duration": 0.02335,
     "end_time": "2023-10-04T09:30:19.045986",
     "exception": false,
     "start_time": "2023-10-04T09:30:19.022636",
     "status": "completed"
    },
    "tags": []
   },
   "outputs": [],
   "source": [
    "df['mean_num_family'] = df['population']/df['households']"
   ]
  },
  {
   "cell_type": "code",
   "execution_count": 19,
   "id": "2f2f4ec2",
   "metadata": {
    "papermill": {
     "duration": 0.036049,
     "end_time": "2023-10-04T09:30:19.098565",
     "exception": false,
     "start_time": "2023-10-04T09:30:19.062516",
     "status": "completed"
    },
    "tags": []
   },
   "outputs": [
    {
     "data": {
      "text/plain": [
       "median_house_value    1.000000\n",
       "median_income         0.688075\n",
       "total_rooms           0.134153\n",
       "housing_median_age    0.105623\n",
       "ocean_proximity       0.081750\n",
       "households            0.065843\n",
       "total_bedrooms        0.049410\n",
       "mean_num_family      -0.023737\n",
       "population           -0.024650\n",
       "longitude            -0.045967\n",
       "latitude             -0.144160\n",
       "Name: median_house_value, dtype: float64"
      ]
     },
     "execution_count": 19,
     "metadata": {},
     "output_type": "execute_result"
    }
   ],
   "source": [
    "cor = df.corr()\n",
    "cor['median_house_value'].sort_values(ascending=False)"
   ]
  },
  {
   "cell_type": "code",
   "execution_count": 20,
   "id": "9d4488eb",
   "metadata": {
    "papermill": {
     "duration": 0.022814,
     "end_time": "2023-10-04T09:30:19.137606",
     "exception": false,
     "start_time": "2023-10-04T09:30:19.114792",
     "status": "completed"
    },
    "tags": []
   },
   "outputs": [],
   "source": [
    "# df = df.drop(columns=['mean_num_family','ocean_proximity','households','total_bedrooms','population','longitude','latitude'],axis=1)"
   ]
  },
  {
   "cell_type": "code",
   "execution_count": 21,
   "id": "6c0b8169",
   "metadata": {
    "papermill": {
     "duration": 0.035817,
     "end_time": "2023-10-04T09:30:19.190187",
     "exception": false,
     "start_time": "2023-10-04T09:30:19.154370",
     "status": "completed"
    },
    "tags": []
   },
   "outputs": [
    {
     "data": {
      "text/html": [
       "<div>\n",
       "<style scoped>\n",
       "    .dataframe tbody tr th:only-of-type {\n",
       "        vertical-align: middle;\n",
       "    }\n",
       "\n",
       "    .dataframe tbody tr th {\n",
       "        vertical-align: top;\n",
       "    }\n",
       "\n",
       "    .dataframe thead th {\n",
       "        text-align: right;\n",
       "    }\n",
       "</style>\n",
       "<table border=\"1\" class=\"dataframe\">\n",
       "  <thead>\n",
       "    <tr style=\"text-align: right;\">\n",
       "      <th></th>\n",
       "      <th>longitude</th>\n",
       "      <th>latitude</th>\n",
       "      <th>housing_median_age</th>\n",
       "      <th>total_rooms</th>\n",
       "      <th>total_bedrooms</th>\n",
       "      <th>population</th>\n",
       "      <th>households</th>\n",
       "      <th>median_income</th>\n",
       "      <th>median_house_value</th>\n",
       "      <th>ocean_proximity</th>\n",
       "      <th>mean_num_family</th>\n",
       "    </tr>\n",
       "  </thead>\n",
       "  <tbody>\n",
       "    <tr>\n",
       "      <th>0</th>\n",
       "      <td>-122.23</td>\n",
       "      <td>37.88</td>\n",
       "      <td>41.0</td>\n",
       "      <td>880.0</td>\n",
       "      <td>129.0</td>\n",
       "      <td>322.0</td>\n",
       "      <td>126.0</td>\n",
       "      <td>8.3252</td>\n",
       "      <td>452600.0</td>\n",
       "      <td>3</td>\n",
       "      <td>2.555556</td>\n",
       "    </tr>\n",
       "    <tr>\n",
       "      <th>1</th>\n",
       "      <td>-122.22</td>\n",
       "      <td>37.86</td>\n",
       "      <td>21.0</td>\n",
       "      <td>7099.0</td>\n",
       "      <td>1106.0</td>\n",
       "      <td>2401.0</td>\n",
       "      <td>1138.0</td>\n",
       "      <td>8.3014</td>\n",
       "      <td>358500.0</td>\n",
       "      <td>3</td>\n",
       "      <td>2.109842</td>\n",
       "    </tr>\n",
       "    <tr>\n",
       "      <th>2</th>\n",
       "      <td>-122.24</td>\n",
       "      <td>37.85</td>\n",
       "      <td>52.0</td>\n",
       "      <td>1467.0</td>\n",
       "      <td>190.0</td>\n",
       "      <td>496.0</td>\n",
       "      <td>177.0</td>\n",
       "      <td>7.2574</td>\n",
       "      <td>352100.0</td>\n",
       "      <td>3</td>\n",
       "      <td>2.802260</td>\n",
       "    </tr>\n",
       "    <tr>\n",
       "      <th>3</th>\n",
       "      <td>-122.25</td>\n",
       "      <td>37.85</td>\n",
       "      <td>52.0</td>\n",
       "      <td>1274.0</td>\n",
       "      <td>235.0</td>\n",
       "      <td>558.0</td>\n",
       "      <td>219.0</td>\n",
       "      <td>5.6431</td>\n",
       "      <td>341300.0</td>\n",
       "      <td>3</td>\n",
       "      <td>2.547945</td>\n",
       "    </tr>\n",
       "    <tr>\n",
       "      <th>4</th>\n",
       "      <td>-122.25</td>\n",
       "      <td>37.85</td>\n",
       "      <td>52.0</td>\n",
       "      <td>1627.0</td>\n",
       "      <td>280.0</td>\n",
       "      <td>565.0</td>\n",
       "      <td>259.0</td>\n",
       "      <td>3.8462</td>\n",
       "      <td>342200.0</td>\n",
       "      <td>3</td>\n",
       "      <td>2.181467</td>\n",
       "    </tr>\n",
       "  </tbody>\n",
       "</table>\n",
       "</div>"
      ],
      "text/plain": [
       "   longitude  latitude  housing_median_age  total_rooms  total_bedrooms  \\\n",
       "0    -122.23     37.88                41.0        880.0           129.0   \n",
       "1    -122.22     37.86                21.0       7099.0          1106.0   \n",
       "2    -122.24     37.85                52.0       1467.0           190.0   \n",
       "3    -122.25     37.85                52.0       1274.0           235.0   \n",
       "4    -122.25     37.85                52.0       1627.0           280.0   \n",
       "\n",
       "   population  households  median_income  median_house_value  ocean_proximity  \\\n",
       "0       322.0       126.0         8.3252            452600.0                3   \n",
       "1      2401.0      1138.0         8.3014            358500.0                3   \n",
       "2       496.0       177.0         7.2574            352100.0                3   \n",
       "3       558.0       219.0         5.6431            341300.0                3   \n",
       "4       565.0       259.0         3.8462            342200.0                3   \n",
       "\n",
       "   mean_num_family  \n",
       "0         2.555556  \n",
       "1         2.109842  \n",
       "2         2.802260  \n",
       "3         2.547945  \n",
       "4         2.181467  "
      ]
     },
     "execution_count": 21,
     "metadata": {},
     "output_type": "execute_result"
    }
   ],
   "source": [
    "df.head()"
   ]
  },
  {
   "cell_type": "markdown",
   "id": "86fe071b",
   "metadata": {
    "papermill": {
     "duration": 0.017131,
     "end_time": "2023-10-04T09:30:19.224789",
     "exception": false,
     "start_time": "2023-10-04T09:30:19.207658",
     "status": "completed"
    },
    "tags": []
   },
   "source": [
    "# for the reason that I can not understand it well, models can work better on the original data than data with deducted low correlated features😕"
   ]
  },
  {
   "cell_type": "code",
   "execution_count": 22,
   "id": "e330d7dc",
   "metadata": {
    "papermill": {
     "duration": 0.324865,
     "end_time": "2023-10-04T09:30:19.566417",
     "exception": false,
     "start_time": "2023-10-04T09:30:19.241552",
     "status": "completed"
    },
    "tags": []
   },
   "outputs": [],
   "source": [
    "df =  pd.DataFrame(PowerTransformer().fit_transform(df),columns=df.columns)"
   ]
  },
  {
   "cell_type": "code",
   "execution_count": 23,
   "id": "355c8ecd",
   "metadata": {
    "papermill": {
     "duration": 0.029593,
     "end_time": "2023-10-04T09:30:19.614481",
     "exception": false,
     "start_time": "2023-10-04T09:30:19.584888",
     "status": "completed"
    },
    "tags": []
   },
   "outputs": [
    {
     "data": {
      "text/plain": [
       "longitude             0.000000\n",
       "latitude              0.153850\n",
       "housing_median_age   -0.113089\n",
       "total_rooms           0.121378\n",
       "total_bedrooms        0.106429\n",
       "population            0.110641\n",
       "households            0.109520\n",
       "median_income        -0.002538\n",
       "median_house_value   -0.012149\n",
       "ocean_proximity       0.201653\n",
       "mean_num_family      -0.106888\n",
       "dtype: float64"
      ]
     },
     "execution_count": 23,
     "metadata": {},
     "output_type": "execute_result"
    }
   ],
   "source": [
    "df.skew()"
   ]
  },
  {
   "cell_type": "code",
   "execution_count": 24,
   "id": "b00309d6",
   "metadata": {
    "papermill": {
     "duration": 0.023231,
     "end_time": "2023-10-04T09:30:19.654436",
     "exception": false,
     "start_time": "2023-10-04T09:30:19.631205",
     "status": "completed"
    },
    "tags": []
   },
   "outputs": [],
   "source": [
    "# df.plot(kind=\"scatter\", x=\"longitude\", y=\"latitude\", alpha=0.4,\n",
    "# s=df[\"population\"]/100, label=\"population\", figsize=(10,7),\n",
    "# c=\"median_house_value\", cmap=plt.get_cmap(\"jet\"), colorbar=True)\n",
    "# plt.legend()\n"
   ]
  },
  {
   "cell_type": "code",
   "execution_count": 25,
   "id": "175f28e4",
   "metadata": {
    "papermill": {
     "duration": 0.02463,
     "end_time": "2023-10-04T09:30:19.696582",
     "exception": false,
     "start_time": "2023-10-04T09:30:19.671952",
     "status": "completed"
    },
    "tags": []
   },
   "outputs": [],
   "source": [
    "X = df.drop(columns=['median_house_value'],axis=1)\n",
    "Y = df['median_house_value']"
   ]
  },
  {
   "cell_type": "code",
   "execution_count": 26,
   "id": "b4183366",
   "metadata": {
    "papermill": {
     "duration": 0.027531,
     "end_time": "2023-10-04T09:30:19.740508",
     "exception": false,
     "start_time": "2023-10-04T09:30:19.712977",
     "status": "completed"
    },
    "tags": []
   },
   "outputs": [
    {
     "name": "stdout",
     "output_type": "stream",
     "text": [
      "(16512, 10)\n",
      "(4128,)\n"
     ]
    }
   ],
   "source": [
    "x_train,x_test,y_train,y_test = train_test_split(X,Y,test_size=0.2,random_state=100)\n",
    "print(x_train.shape)\n",
    "print(y_test.shape)"
   ]
  },
  {
   "cell_type": "code",
   "execution_count": 27,
   "id": "f601df37",
   "metadata": {
    "papermill": {
     "duration": 0.028487,
     "end_time": "2023-10-04T09:30:19.787572",
     "exception": false,
     "start_time": "2023-10-04T09:30:19.759085",
     "status": "completed"
    },
    "tags": []
   },
   "outputs": [],
   "source": [
    "mms = MinMaxScaler(feature_range=(0,1))\n",
    "x_train = mms.fit_transform(x_train)\n",
    "x_test = mms.transform(x_test)"
   ]
  },
  {
   "cell_type": "code",
   "execution_count": 28,
   "id": "ed8d8cad",
   "metadata": {
    "papermill": {
     "duration": 0.024706,
     "end_time": "2023-10-04T09:30:19.828364",
     "exception": false,
     "start_time": "2023-10-04T09:30:19.803658",
     "status": "completed"
    },
    "tags": []
   },
   "outputs": [
    {
     "data": {
      "text/plain": [
       "array([[0.12820513, 0.84182426, 0.29082996, ..., 0.51234495, 0.55910099,\n",
       "        0.5704882 ],\n",
       "       [0.28490028, 0.47246882, 0.24784563, ..., 0.49536638, 1.        ,\n",
       "        0.49804813],\n",
       "       [0.15954416, 0.92633422, 0.39355362, ..., 0.50814317, 0.55910099,\n",
       "        0.45961222],\n",
       "       ...,\n",
       "       [0.64672365, 0.27185349, 0.05718713, ..., 0.6820536 , 0.55910099,\n",
       "        0.58327867],\n",
       "       [0.66096866, 0.04069486, 0.71112269, ..., 0.39742152, 1.        ,\n",
       "        0.55702191],\n",
       "       [0.52991453, 0.23427415, 0.93387296, ..., 0.61554143, 0.        ,\n",
       "        0.5145662 ]])"
      ]
     },
     "execution_count": 28,
     "metadata": {},
     "output_type": "execute_result"
    }
   ],
   "source": [
    "x_train"
   ]
  },
  {
   "cell_type": "code",
   "execution_count": 29,
   "id": "b4871f15",
   "metadata": {
    "papermill": {
     "duration": 11.683138,
     "end_time": "2023-10-04T09:30:31.528274",
     "exception": false,
     "start_time": "2023-10-04T09:30:19.845136",
     "status": "completed"
    },
    "tags": []
   },
   "outputs": [
    {
     "data": {
      "text/plain": [
       "0.6976350110728666"
      ]
     },
     "execution_count": 29,
     "metadata": {},
     "output_type": "execute_result"
    }
   ],
   "source": [
    "linear = SVR(kernel='linear',gamma='auto',C=1)\n",
    "linear.fit(x_train,y_train)\n",
    "li_pre = linear.predict(x_test)\n",
    "r2_score(y_test,li_pre)"
   ]
  },
  {
   "cell_type": "code",
   "execution_count": 30,
   "id": "a1be6bbd",
   "metadata": {
    "papermill": {
     "duration": 0.02346,
     "end_time": "2023-10-04T09:30:31.568772",
     "exception": false,
     "start_time": "2023-10-04T09:30:31.545312",
     "status": "completed"
    },
    "tags": []
   },
   "outputs": [],
   "source": [
    "rbf = SVR(kernel='rbf',gamma='scale',C=0.1)\n",
    "poly = SVR(kernel='poly',degree=3,C=1)"
   ]
  },
  {
   "cell_type": "code",
   "execution_count": 31,
   "id": "dc36b299",
   "metadata": {
    "papermill": {
     "duration": 105.160653,
     "end_time": "2023-10-04T09:32:16.745985",
     "exception": false,
     "start_time": "2023-10-04T09:30:31.585332",
     "status": "completed"
    },
    "tags": []
   },
   "outputs": [
    {
     "data": {
      "text/html": [
       "<style>#sk-container-id-1 {color: black;background-color: white;}#sk-container-id-1 pre{padding: 0;}#sk-container-id-1 div.sk-toggleable {background-color: white;}#sk-container-id-1 label.sk-toggleable__label {cursor: pointer;display: block;width: 100%;margin-bottom: 0;padding: 0.3em;box-sizing: border-box;text-align: center;}#sk-container-id-1 label.sk-toggleable__label-arrow:before {content: \"▸\";float: left;margin-right: 0.25em;color: #696969;}#sk-container-id-1 label.sk-toggleable__label-arrow:hover:before {color: black;}#sk-container-id-1 div.sk-estimator:hover label.sk-toggleable__label-arrow:before {color: black;}#sk-container-id-1 div.sk-toggleable__content {max-height: 0;max-width: 0;overflow: hidden;text-align: left;background-color: #f0f8ff;}#sk-container-id-1 div.sk-toggleable__content pre {margin: 0.2em;color: black;border-radius: 0.25em;background-color: #f0f8ff;}#sk-container-id-1 input.sk-toggleable__control:checked~div.sk-toggleable__content {max-height: 200px;max-width: 100%;overflow: auto;}#sk-container-id-1 input.sk-toggleable__control:checked~label.sk-toggleable__label-arrow:before {content: \"▾\";}#sk-container-id-1 div.sk-estimator input.sk-toggleable__control:checked~label.sk-toggleable__label {background-color: #d4ebff;}#sk-container-id-1 div.sk-label input.sk-toggleable__control:checked~label.sk-toggleable__label {background-color: #d4ebff;}#sk-container-id-1 input.sk-hidden--visually {border: 0;clip: rect(1px 1px 1px 1px);clip: rect(1px, 1px, 1px, 1px);height: 1px;margin: -1px;overflow: hidden;padding: 0;position: absolute;width: 1px;}#sk-container-id-1 div.sk-estimator {font-family: monospace;background-color: #f0f8ff;border: 1px dotted black;border-radius: 0.25em;box-sizing: border-box;margin-bottom: 0.5em;}#sk-container-id-1 div.sk-estimator:hover {background-color: #d4ebff;}#sk-container-id-1 div.sk-parallel-item::after {content: \"\";width: 100%;border-bottom: 1px solid gray;flex-grow: 1;}#sk-container-id-1 div.sk-label:hover label.sk-toggleable__label {background-color: #d4ebff;}#sk-container-id-1 div.sk-serial::before {content: \"\";position: absolute;border-left: 1px solid gray;box-sizing: border-box;top: 0;bottom: 0;left: 50%;z-index: 0;}#sk-container-id-1 div.sk-serial {display: flex;flex-direction: column;align-items: center;background-color: white;padding-right: 0.2em;padding-left: 0.2em;position: relative;}#sk-container-id-1 div.sk-item {position: relative;z-index: 1;}#sk-container-id-1 div.sk-parallel {display: flex;align-items: stretch;justify-content: center;background-color: white;position: relative;}#sk-container-id-1 div.sk-item::before, #sk-container-id-1 div.sk-parallel-item::before {content: \"\";position: absolute;border-left: 1px solid gray;box-sizing: border-box;top: 0;bottom: 0;left: 50%;z-index: -1;}#sk-container-id-1 div.sk-parallel-item {display: flex;flex-direction: column;z-index: 1;position: relative;background-color: white;}#sk-container-id-1 div.sk-parallel-item:first-child::after {align-self: flex-end;width: 50%;}#sk-container-id-1 div.sk-parallel-item:last-child::after {align-self: flex-start;width: 50%;}#sk-container-id-1 div.sk-parallel-item:only-child::after {width: 0;}#sk-container-id-1 div.sk-dashed-wrapped {border: 1px dashed gray;margin: 0 0.4em 0.5em 0.4em;box-sizing: border-box;padding-bottom: 0.4em;background-color: white;}#sk-container-id-1 div.sk-label label {font-family: monospace;font-weight: bold;display: inline-block;line-height: 1.2em;}#sk-container-id-1 div.sk-label-container {text-align: center;}#sk-container-id-1 div.sk-container {/* jupyter's `normalize.less` sets `[hidden] { display: none; }` but bootstrap.min.css set `[hidden] { display: none !important; }` so we also need the `!important` here to be able to override the default hidden behavior on the sphinx rendered scikit-learn.org. See: https://github.com/scikit-learn/scikit-learn/issues/21755 */display: inline-block !important;position: relative;}#sk-container-id-1 div.sk-text-repr-fallback {display: none;}</style><div id=\"sk-container-id-1\" class=\"sk-top-container\"><div class=\"sk-text-repr-fallback\"><pre>SVR(C=1, kernel=&#x27;poly&#x27;)</pre><b>In a Jupyter environment, please rerun this cell to show the HTML representation or trust the notebook. <br />On GitHub, the HTML representation is unable to render, please try loading this page with nbviewer.org.</b></div><div class=\"sk-container\" hidden><div class=\"sk-item\"><div class=\"sk-estimator sk-toggleable\"><input class=\"sk-toggleable__control sk-hidden--visually\" id=\"sk-estimator-id-1\" type=\"checkbox\" checked><label for=\"sk-estimator-id-1\" class=\"sk-toggleable__label sk-toggleable__label-arrow\">SVR</label><div class=\"sk-toggleable__content\"><pre>SVR(C=1, kernel=&#x27;poly&#x27;)</pre></div></div></div></div></div>"
      ],
      "text/plain": [
       "SVR(C=1, kernel='poly')"
      ]
     },
     "execution_count": 31,
     "metadata": {},
     "output_type": "execute_result"
    }
   ],
   "source": [
    "rbf.fit(x_train,y_train)\n",
    "poly.fit(x_train,y_train)"
   ]
  },
  {
   "cell_type": "code",
   "execution_count": 32,
   "id": "e9dad777",
   "metadata": {
    "papermill": {
     "duration": 3.182627,
     "end_time": "2023-10-04T09:32:19.947177",
     "exception": false,
     "start_time": "2023-10-04T09:32:16.764550",
     "status": "completed"
    },
    "tags": []
   },
   "outputs": [
    {
     "data": {
      "text/plain": [
       "0.7811529385974698"
      ]
     },
     "execution_count": 32,
     "metadata": {},
     "output_type": "execute_result"
    }
   ],
   "source": [
    "rbf.score(x_test,y_test)"
   ]
  },
  {
   "cell_type": "code",
   "execution_count": 33,
   "id": "57ec2160",
   "metadata": {
    "papermill": {
     "duration": 23.737107,
     "end_time": "2023-10-04T09:32:43.705132",
     "exception": false,
     "start_time": "2023-10-04T09:32:19.968025",
     "status": "completed"
    },
    "tags": []
   },
   "outputs": [
    {
     "name": "stdout",
     "output_type": "stream",
     "text": [
      "0.7811529385974698\n",
      "0.7685406112545086\n"
     ]
    }
   ],
   "source": [
    "rbf_pred = rbf.predict(x_test)\n",
    "poly_pred = poly.predict(x_test)\n",
    "poly_pred_train = poly.predict(x_train)\n",
    "rbf_pred_train = rbf.predict(x_train)\n",
    "print(r2_score(y_test,rbf_pred))\n",
    "print(r2_score(y_test,poly_pred))"
   ]
  },
  {
   "cell_type": "code",
   "execution_count": 34,
   "id": "3c19665b",
   "metadata": {
    "papermill": {
     "duration": 4.726314,
     "end_time": "2023-10-04T09:32:48.450505",
     "exception": false,
     "start_time": "2023-10-04T09:32:43.724191",
     "status": "completed"
    },
    "tags": []
   },
   "outputs": [
    {
     "name": "stdout",
     "output_type": "stream",
     "text": [
      "poly accuracy score-->0.7685406112545086\n",
      "rbf accuracy score--> 0.7811529385974698\n",
      " poly mean-squaree-error--> 0.23517398464154582\n",
      " poly mean-squaree-error_train--> 0.2354764190224435\n",
      "\n",
      "\n",
      " rbf mean-squaree-error--> 0.22235924727909132\n",
      "rbf mean-squaree-error_train--> 0.2290176717430492\n"
     ]
    }
   ],
   "source": [
    "print(f\"poly accuracy score-->{poly.score(x_test,y_test)}\")\n",
    "print(f\"rbf accuracy score--> {rbf.score(x_test,y_test)}\")\n",
    "print(f\" poly mean-squaree-error--> {mean_squared_error(y_test,poly_pred)}\")\n",
    "print(f\" poly mean-squaree-error_train--> {mean_squared_error(y_train,poly_pred_train)}\")\n",
    "print('\\n')\n",
    "print(f\" rbf mean-squaree-error--> {mean_squared_error(y_test,rbf_pred)}\")\n",
    "print(f\"rbf mean-squaree-error_train--> {mean_squared_error(y_train,rbf_pred_train)}\")\n",
    "\n",
    "\n",
    "\n"
   ]
  },
  {
   "cell_type": "code",
   "execution_count": 35,
   "id": "98a260ef",
   "metadata": {
    "papermill": {
     "duration": 0.025639,
     "end_time": "2023-10-04T09:32:48.606937",
     "exception": false,
     "start_time": "2023-10-04T09:32:48.581298",
     "status": "completed"
    },
    "tags": []
   },
   "outputs": [],
   "source": [
    "from sklearn.linear_model import LinearRegression\n",
    "lr = LinearRegression()"
   ]
  },
  {
   "cell_type": "code",
   "execution_count": 36,
   "id": "8f6d53e9",
   "metadata": {
    "papermill": {
     "duration": 0.041346,
     "end_time": "2023-10-04T09:32:48.667271",
     "exception": false,
     "start_time": "2023-10-04T09:32:48.625925",
     "status": "completed"
    },
    "tags": []
   },
   "outputs": [
    {
     "data": {
      "text/html": [
       "<style>#sk-container-id-2 {color: black;background-color: white;}#sk-container-id-2 pre{padding: 0;}#sk-container-id-2 div.sk-toggleable {background-color: white;}#sk-container-id-2 label.sk-toggleable__label {cursor: pointer;display: block;width: 100%;margin-bottom: 0;padding: 0.3em;box-sizing: border-box;text-align: center;}#sk-container-id-2 label.sk-toggleable__label-arrow:before {content: \"▸\";float: left;margin-right: 0.25em;color: #696969;}#sk-container-id-2 label.sk-toggleable__label-arrow:hover:before {color: black;}#sk-container-id-2 div.sk-estimator:hover label.sk-toggleable__label-arrow:before {color: black;}#sk-container-id-2 div.sk-toggleable__content {max-height: 0;max-width: 0;overflow: hidden;text-align: left;background-color: #f0f8ff;}#sk-container-id-2 div.sk-toggleable__content pre {margin: 0.2em;color: black;border-radius: 0.25em;background-color: #f0f8ff;}#sk-container-id-2 input.sk-toggleable__control:checked~div.sk-toggleable__content {max-height: 200px;max-width: 100%;overflow: auto;}#sk-container-id-2 input.sk-toggleable__control:checked~label.sk-toggleable__label-arrow:before {content: \"▾\";}#sk-container-id-2 div.sk-estimator input.sk-toggleable__control:checked~label.sk-toggleable__label {background-color: #d4ebff;}#sk-container-id-2 div.sk-label input.sk-toggleable__control:checked~label.sk-toggleable__label {background-color: #d4ebff;}#sk-container-id-2 input.sk-hidden--visually {border: 0;clip: rect(1px 1px 1px 1px);clip: rect(1px, 1px, 1px, 1px);height: 1px;margin: -1px;overflow: hidden;padding: 0;position: absolute;width: 1px;}#sk-container-id-2 div.sk-estimator {font-family: monospace;background-color: #f0f8ff;border: 1px dotted black;border-radius: 0.25em;box-sizing: border-box;margin-bottom: 0.5em;}#sk-container-id-2 div.sk-estimator:hover {background-color: #d4ebff;}#sk-container-id-2 div.sk-parallel-item::after {content: \"\";width: 100%;border-bottom: 1px solid gray;flex-grow: 1;}#sk-container-id-2 div.sk-label:hover label.sk-toggleable__label {background-color: #d4ebff;}#sk-container-id-2 div.sk-serial::before {content: \"\";position: absolute;border-left: 1px solid gray;box-sizing: border-box;top: 0;bottom: 0;left: 50%;z-index: 0;}#sk-container-id-2 div.sk-serial {display: flex;flex-direction: column;align-items: center;background-color: white;padding-right: 0.2em;padding-left: 0.2em;position: relative;}#sk-container-id-2 div.sk-item {position: relative;z-index: 1;}#sk-container-id-2 div.sk-parallel {display: flex;align-items: stretch;justify-content: center;background-color: white;position: relative;}#sk-container-id-2 div.sk-item::before, #sk-container-id-2 div.sk-parallel-item::before {content: \"\";position: absolute;border-left: 1px solid gray;box-sizing: border-box;top: 0;bottom: 0;left: 50%;z-index: -1;}#sk-container-id-2 div.sk-parallel-item {display: flex;flex-direction: column;z-index: 1;position: relative;background-color: white;}#sk-container-id-2 div.sk-parallel-item:first-child::after {align-self: flex-end;width: 50%;}#sk-container-id-2 div.sk-parallel-item:last-child::after {align-self: flex-start;width: 50%;}#sk-container-id-2 div.sk-parallel-item:only-child::after {width: 0;}#sk-container-id-2 div.sk-dashed-wrapped {border: 1px dashed gray;margin: 0 0.4em 0.5em 0.4em;box-sizing: border-box;padding-bottom: 0.4em;background-color: white;}#sk-container-id-2 div.sk-label label {font-family: monospace;font-weight: bold;display: inline-block;line-height: 1.2em;}#sk-container-id-2 div.sk-label-container {text-align: center;}#sk-container-id-2 div.sk-container {/* jupyter's `normalize.less` sets `[hidden] { display: none; }` but bootstrap.min.css set `[hidden] { display: none !important; }` so we also need the `!important` here to be able to override the default hidden behavior on the sphinx rendered scikit-learn.org. See: https://github.com/scikit-learn/scikit-learn/issues/21755 */display: inline-block !important;position: relative;}#sk-container-id-2 div.sk-text-repr-fallback {display: none;}</style><div id=\"sk-container-id-2\" class=\"sk-top-container\"><div class=\"sk-text-repr-fallback\"><pre>LinearRegression()</pre><b>In a Jupyter environment, please rerun this cell to show the HTML representation or trust the notebook. <br />On GitHub, the HTML representation is unable to render, please try loading this page with nbviewer.org.</b></div><div class=\"sk-container\" hidden><div class=\"sk-item\"><div class=\"sk-estimator sk-toggleable\"><input class=\"sk-toggleable__control sk-hidden--visually\" id=\"sk-estimator-id-2\" type=\"checkbox\" checked><label for=\"sk-estimator-id-2\" class=\"sk-toggleable__label sk-toggleable__label-arrow\">LinearRegression</label><div class=\"sk-toggleable__content\"><pre>LinearRegression()</pre></div></div></div></div></div>"
      ],
      "text/plain": [
       "LinearRegression()"
      ]
     },
     "execution_count": 36,
     "metadata": {},
     "output_type": "execute_result"
    }
   ],
   "source": [
    "lr.fit(x_train,y_train)"
   ]
  },
  {
   "cell_type": "code",
   "execution_count": 37,
   "id": "7deb26dc",
   "metadata": {
    "papermill": {
     "duration": 0.066093,
     "end_time": "2023-10-04T09:32:48.792960",
     "exception": false,
     "start_time": "2023-10-04T09:32:48.726867",
     "status": "completed"
    },
    "tags": []
   },
   "outputs": [],
   "source": [
    "y_pred = lr.predict(x_test)"
   ]
  },
  {
   "cell_type": "code",
   "execution_count": 38,
   "id": "f7954f7c",
   "metadata": {
    "papermill": {
     "duration": 0.0753,
     "end_time": "2023-10-04T09:32:48.926039",
     "exception": false,
     "start_time": "2023-10-04T09:32:48.850739",
     "status": "completed"
    },
    "tags": []
   },
   "outputs": [
    {
     "data": {
      "text/plain": [
       "0.6981051627210666"
      ]
     },
     "execution_count": 38,
     "metadata": {},
     "output_type": "execute_result"
    }
   ],
   "source": [
    "lr.score(x_test,y_test)"
   ]
  },
  {
   "cell_type": "code",
   "execution_count": 39,
   "id": "5e59dae1",
   "metadata": {
    "papermill": {
     "duration": 0.06166,
     "end_time": "2023-10-04T09:32:49.046578",
     "exception": false,
     "start_time": "2023-10-04T09:32:48.984918",
     "status": "completed"
    },
    "tags": []
   },
   "outputs": [
    {
     "data": {
      "text/plain": [
       "0.6981051627210666"
      ]
     },
     "execution_count": 39,
     "metadata": {},
     "output_type": "execute_result"
    }
   ],
   "source": [
    "r2_score(y_test,y_pred)"
   ]
  },
  {
   "cell_type": "code",
   "execution_count": 40,
   "id": "d1363ed5",
   "metadata": {
    "papermill": {
     "duration": 0.026507,
     "end_time": "2023-10-04T09:32:49.093031",
     "exception": false,
     "start_time": "2023-10-04T09:32:49.066524",
     "status": "completed"
    },
    "tags": []
   },
   "outputs": [],
   "source": [
    "rbf = SVR(kernel='rbf',gamma='auto',C=1.0,)\n",
    "poly = SVR(kernel='poly',degree=2,C=1.0)\n",
    "lin = SVR(kernel='linear',gamma='auto',C=1.0,)"
   ]
  },
  {
   "cell_type": "code",
   "execution_count": 41,
   "id": "1ab0378a",
   "metadata": {
    "papermill": {
     "duration": 44.191413,
     "end_time": "2023-10-04T09:33:33.303870",
     "exception": false,
     "start_time": "2023-10-04T09:32:49.112457",
     "status": "completed"
    },
    "tags": []
   },
   "outputs": [
    {
     "data": {
      "text/html": [
       "<style>#sk-container-id-3 {color: black;background-color: white;}#sk-container-id-3 pre{padding: 0;}#sk-container-id-3 div.sk-toggleable {background-color: white;}#sk-container-id-3 label.sk-toggleable__label {cursor: pointer;display: block;width: 100%;margin-bottom: 0;padding: 0.3em;box-sizing: border-box;text-align: center;}#sk-container-id-3 label.sk-toggleable__label-arrow:before {content: \"▸\";float: left;margin-right: 0.25em;color: #696969;}#sk-container-id-3 label.sk-toggleable__label-arrow:hover:before {color: black;}#sk-container-id-3 div.sk-estimator:hover label.sk-toggleable__label-arrow:before {color: black;}#sk-container-id-3 div.sk-toggleable__content {max-height: 0;max-width: 0;overflow: hidden;text-align: left;background-color: #f0f8ff;}#sk-container-id-3 div.sk-toggleable__content pre {margin: 0.2em;color: black;border-radius: 0.25em;background-color: #f0f8ff;}#sk-container-id-3 input.sk-toggleable__control:checked~div.sk-toggleable__content {max-height: 200px;max-width: 100%;overflow: auto;}#sk-container-id-3 input.sk-toggleable__control:checked~label.sk-toggleable__label-arrow:before {content: \"▾\";}#sk-container-id-3 div.sk-estimator input.sk-toggleable__control:checked~label.sk-toggleable__label {background-color: #d4ebff;}#sk-container-id-3 div.sk-label input.sk-toggleable__control:checked~label.sk-toggleable__label {background-color: #d4ebff;}#sk-container-id-3 input.sk-hidden--visually {border: 0;clip: rect(1px 1px 1px 1px);clip: rect(1px, 1px, 1px, 1px);height: 1px;margin: -1px;overflow: hidden;padding: 0;position: absolute;width: 1px;}#sk-container-id-3 div.sk-estimator {font-family: monospace;background-color: #f0f8ff;border: 1px dotted black;border-radius: 0.25em;box-sizing: border-box;margin-bottom: 0.5em;}#sk-container-id-3 div.sk-estimator:hover {background-color: #d4ebff;}#sk-container-id-3 div.sk-parallel-item::after {content: \"\";width: 100%;border-bottom: 1px solid gray;flex-grow: 1;}#sk-container-id-3 div.sk-label:hover label.sk-toggleable__label {background-color: #d4ebff;}#sk-container-id-3 div.sk-serial::before {content: \"\";position: absolute;border-left: 1px solid gray;box-sizing: border-box;top: 0;bottom: 0;left: 50%;z-index: 0;}#sk-container-id-3 div.sk-serial {display: flex;flex-direction: column;align-items: center;background-color: white;padding-right: 0.2em;padding-left: 0.2em;position: relative;}#sk-container-id-3 div.sk-item {position: relative;z-index: 1;}#sk-container-id-3 div.sk-parallel {display: flex;align-items: stretch;justify-content: center;background-color: white;position: relative;}#sk-container-id-3 div.sk-item::before, #sk-container-id-3 div.sk-parallel-item::before {content: \"\";position: absolute;border-left: 1px solid gray;box-sizing: border-box;top: 0;bottom: 0;left: 50%;z-index: -1;}#sk-container-id-3 div.sk-parallel-item {display: flex;flex-direction: column;z-index: 1;position: relative;background-color: white;}#sk-container-id-3 div.sk-parallel-item:first-child::after {align-self: flex-end;width: 50%;}#sk-container-id-3 div.sk-parallel-item:last-child::after {align-self: flex-start;width: 50%;}#sk-container-id-3 div.sk-parallel-item:only-child::after {width: 0;}#sk-container-id-3 div.sk-dashed-wrapped {border: 1px dashed gray;margin: 0 0.4em 0.5em 0.4em;box-sizing: border-box;padding-bottom: 0.4em;background-color: white;}#sk-container-id-3 div.sk-label label {font-family: monospace;font-weight: bold;display: inline-block;line-height: 1.2em;}#sk-container-id-3 div.sk-label-container {text-align: center;}#sk-container-id-3 div.sk-container {/* jupyter's `normalize.less` sets `[hidden] { display: none; }` but bootstrap.min.css set `[hidden] { display: none !important; }` so we also need the `!important` here to be able to override the default hidden behavior on the sphinx rendered scikit-learn.org. See: https://github.com/scikit-learn/scikit-learn/issues/21755 */display: inline-block !important;position: relative;}#sk-container-id-3 div.sk-text-repr-fallback {display: none;}</style><div id=\"sk-container-id-3\" class=\"sk-top-container\"><div class=\"sk-text-repr-fallback\"><pre>SVR(gamma=&#x27;auto&#x27;, kernel=&#x27;linear&#x27;)</pre><b>In a Jupyter environment, please rerun this cell to show the HTML representation or trust the notebook. <br />On GitHub, the HTML representation is unable to render, please try loading this page with nbviewer.org.</b></div><div class=\"sk-container\" hidden><div class=\"sk-item\"><div class=\"sk-estimator sk-toggleable\"><input class=\"sk-toggleable__control sk-hidden--visually\" id=\"sk-estimator-id-3\" type=\"checkbox\" checked><label for=\"sk-estimator-id-3\" class=\"sk-toggleable__label sk-toggleable__label-arrow\">SVR</label><div class=\"sk-toggleable__content\"><pre>SVR(gamma=&#x27;auto&#x27;, kernel=&#x27;linear&#x27;)</pre></div></div></div></div></div>"
      ],
      "text/plain": [
       "SVR(gamma='auto', kernel='linear')"
      ]
     },
     "execution_count": 41,
     "metadata": {},
     "output_type": "execute_result"
    }
   ],
   "source": [
    "rbf.fit(x_train,y_train)\n",
    "poly.fit(x_train,y_train)\n",
    "lin.fit(x_train,y_train)"
   ]
  },
  {
   "cell_type": "code",
   "execution_count": 42,
   "id": "6f743b5e",
   "metadata": {
    "papermill": {
     "duration": 31.388236,
     "end_time": "2023-10-04T09:34:04.709917",
     "exception": false,
     "start_time": "2023-10-04T09:33:33.321681",
     "status": "completed"
    },
    "tags": []
   },
   "outputs": [
    {
     "name": "stdout",
     "output_type": "stream",
     "text": [
      "0.7365076485594639\n",
      "0.6976350110728666\n"
     ]
    }
   ],
   "source": [
    "rbf_pred = rbf.predict(x_test)\n",
    "poly_pred = poly.predict(x_test)\n",
    "lin_pred = lin.predict(x_test)\n",
    "poly_pred_train = poly.predict(x_train)\n",
    "rbf_pred_train = rbf.predict(x_train)\n",
    "lin_pred_train = lin.predict(x_train)\n",
    "print(r2_score(y_test,rbf_pred))\n",
    "print(r2_score(y_test,lin_pred))"
   ]
  },
  {
   "cell_type": "code",
   "execution_count": 43,
   "id": "7526fbcd",
   "metadata": {
    "papermill": {
     "duration": 6.329079,
     "end_time": "2023-10-04T09:34:11.057256",
     "exception": false,
     "start_time": "2023-10-04T09:34:04.728177",
     "status": "completed"
    },
    "tags": []
   },
   "outputs": [
    {
     "name": "stdout",
     "output_type": "stream",
     "text": [
      "poly accuracy score-->0.7530967451297914\n",
      "rbf accuracy score--> 0.7365076485594639\n",
      "lin accuracy score--> 0.6976350110728666\n",
      " rbf mean-squaree-error--> 0.26772103109188944\n",
      "rbf mean-squaree-error_train--> 0.28300723876659434\n",
      "linear mean-squaree-error--> 0.3072175194426022\n",
      " linear mean-squaree-error_train--> 0.32587267440589407\n"
     ]
    }
   ],
   "source": [
    "print(f\"poly accuracy score-->{poly.score(x_test,y_test)}\")\n",
    "print(f\"rbf accuracy score--> {rbf.score(x_test,y_test)}\")\n",
    "print(f\"lin accuracy score--> {lin.score(x_test,y_test)}\")\n",
    "print(f\" rbf mean-squaree-error--> {mean_squared_error(y_test,rbf_pred)}\")\n",
    "print(f\"rbf mean-squaree-error_train--> {mean_squared_error(y_train,rbf_pred_train)}\")\n",
    "print(f\"linear mean-squaree-error--> {mean_squared_error(y_test,lin_pred)}\")\n",
    "print(f\" linear mean-squaree-error_train--> {mean_squared_error(y_train,lin_pred_train)}\")\n",
    "# print(f\"rbf root_mean-squaree-error_train--> {mean_squared_error(y_test,rbf_pred_train,squared=False)}\")\n",
    "# print(f\"liner root_mean-squaree-error_train--> {mean_squared_error(y_test,lin_pred_train,squared=False)}\")\n"
   ]
  },
  {
   "cell_type": "code",
   "execution_count": 44,
   "id": "2695ad79",
   "metadata": {
    "papermill": {
     "duration": 0.029883,
     "end_time": "2023-10-04T09:34:11.106419",
     "exception": false,
     "start_time": "2023-10-04T09:34:11.076536",
     "status": "completed"
    },
    "tags": []
   },
   "outputs": [
    {
     "data": {
      "text/plain": [
       "0.48440366413606406"
      ]
     },
     "execution_count": 44,
     "metadata": {},
     "output_type": "execute_result"
    }
   ],
   "source": [
    "d2_pinball_score(y_test,lin_pred,)"
   ]
  },
  {
   "cell_type": "code",
   "execution_count": 45,
   "id": "75ba6969",
   "metadata": {
    "papermill": {
     "duration": 34.000471,
     "end_time": "2023-10-04T09:34:45.128289",
     "exception": false,
     "start_time": "2023-10-04T09:34:11.127818",
     "status": "completed"
    },
    "tags": []
   },
   "outputs": [
    {
     "name": "stdout",
     "output_type": "stream",
     "text": [
      "0.8314485434784378\n",
      "0.17125646905988462\n",
      "0.14128942741484796\n"
     ]
    }
   ],
   "source": [
    "rbf = SVR(kernel='rbf',gamma=6,C=5,epsilon=0.1,shrinking=True)\n",
    "rbf.fit(x_train,y_train)\n",
    "pred = rbf.predict(x_test)\n",
    "pred_train = rbf.predict(x_train)\n",
    "print(r2_score(y_test,pred))\n",
    "print(mean_squared_error(y_test,pred))\n",
    "print(mean_squared_error(y_train,pred_train))"
   ]
  },
  {
   "cell_type": "code",
   "execution_count": null,
   "id": "0584b64b-edce-45fb-91d6-483be39b31cd",
   "metadata": {},
   "outputs": [],
   "source": []
  }
 ],
 "metadata": {
  "kernelspec": {
   "display_name": "Python 3 (ipykernel)",
   "language": "python",
   "name": "python3"
  },
  "language_info": {
   "codemirror_mode": {
    "name": "ipython",
    "version": 3
   },
   "file_extension": ".py",
   "mimetype": "text/x-python",
   "name": "python",
   "nbconvert_exporter": "python",
   "pygments_lexer": "ipython3",
   "version": "3.10.12"
  },
  "papermill": {
   "default_parameters": {},
   "duration": 447.061359,
   "end_time": "2023-10-04T09:34:47.767337",
   "environment_variables": {},
   "exception": null,
   "input_path": "__notebook__.ipynb",
   "output_path": "__notebook__.ipynb",
   "parameters": {},
   "start_time": "2023-10-04T09:27:20.705978",
   "version": "2.4.0"
  },
  "widgets": {
   "application/vnd.jupyter.widget-state+json": {
    "state": {
     "0d4977f707d04e5382392339b26a0ce4": {
      "model_module": "@jupyter-widgets/controls",
      "model_module_version": "1.5.0",
      "model_name": "DescriptionStyleModel",
      "state": {
       "_model_module": "@jupyter-widgets/controls",
       "_model_module_version": "1.5.0",
       "_model_name": "DescriptionStyleModel",
       "_view_count": null,
       "_view_module": "@jupyter-widgets/base",
       "_view_module_version": "1.2.0",
       "_view_name": "StyleView",
       "description_width": ""
      }
     },
     "32216da69ec54687982acac0136a29b5": {
      "model_module": "@jupyter-widgets/controls",
      "model_module_version": "1.5.0",
      "model_name": "DescriptionStyleModel",
      "state": {
       "_model_module": "@jupyter-widgets/controls",
       "_model_module_version": "1.5.0",
       "_model_name": "DescriptionStyleModel",
       "_view_count": null,
       "_view_module": "@jupyter-widgets/base",
       "_view_module_version": "1.2.0",
       "_view_name": "StyleView",
       "description_width": ""
      }
     },
     "487079b2cae045b0a0d34e4374ef6154": {
      "model_module": "@jupyter-widgets/base",
      "model_module_version": "1.2.0",
      "model_name": "LayoutModel",
      "state": {
       "_model_module": "@jupyter-widgets/base",
       "_model_module_version": "1.2.0",
       "_model_name": "LayoutModel",
       "_view_count": null,
       "_view_module": "@jupyter-widgets/base",
       "_view_module_version": "1.2.0",
       "_view_name": "LayoutView",
       "align_content": null,
       "align_items": null,
       "align_self": null,
       "border": null,
       "bottom": null,
       "display": null,
       "flex": null,
       "flex_flow": null,
       "grid_area": null,
       "grid_auto_columns": null,
       "grid_auto_flow": null,
       "grid_auto_rows": null,
       "grid_column": null,
       "grid_gap": null,
       "grid_row": null,
       "grid_template_areas": null,
       "grid_template_columns": null,
       "grid_template_rows": null,
       "height": null,
       "justify_content": null,
       "justify_items": null,
       "left": null,
       "margin": null,
       "max_height": null,
       "max_width": null,
       "min_height": null,
       "min_width": null,
       "object_fit": null,
       "object_position": null,
       "order": null,
       "overflow": null,
       "overflow_x": null,
       "overflow_y": null,
       "padding": null,
       "right": null,
       "top": null,
       "visibility": null,
       "width": null
      }
     },
     "53a03cde8f7f4aa386c2bce76e936076": {
      "model_module": "@jupyter-widgets/controls",
      "model_module_version": "1.5.0",
      "model_name": "HTMLModel",
      "state": {
       "_dom_classes": [],
       "_model_module": "@jupyter-widgets/controls",
       "_model_module_version": "1.5.0",
       "_model_name": "HTMLModel",
       "_view_count": null,
       "_view_module": "@jupyter-widgets/controls",
       "_view_module_version": "1.5.0",
       "_view_name": "HTMLView",
       "description": "",
       "description_tooltip": null,
       "layout": "IPY_MODEL_72bf22a6082a4e799097480e3c48588b",
       "placeholder": "​",
       "style": "IPY_MODEL_0d4977f707d04e5382392339b26a0ce4",
       "value": " 85/85 [02:05&lt;00:00,  2.05s/it]"
      }
     },
     "72bf22a6082a4e799097480e3c48588b": {
      "model_module": "@jupyter-widgets/base",
      "model_module_version": "1.2.0",
      "model_name": "LayoutModel",
      "state": {
       "_model_module": "@jupyter-widgets/base",
       "_model_module_version": "1.2.0",
       "_model_name": "LayoutModel",
       "_view_count": null,
       "_view_module": "@jupyter-widgets/base",
       "_view_module_version": "1.2.0",
       "_view_name": "LayoutView",
       "align_content": null,
       "align_items": null,
       "align_self": null,
       "border": null,
       "bottom": null,
       "display": null,
       "flex": null,
       "flex_flow": null,
       "grid_area": null,
       "grid_auto_columns": null,
       "grid_auto_flow": null,
       "grid_auto_rows": null,
       "grid_column": null,
       "grid_gap": null,
       "grid_row": null,
       "grid_template_areas": null,
       "grid_template_columns": null,
       "grid_template_rows": null,
       "height": null,
       "justify_content": null,
       "justify_items": null,
       "left": null,
       "margin": null,
       "max_height": null,
       "max_width": null,
       "min_height": null,
       "min_width": null,
       "object_fit": null,
       "object_position": null,
       "order": null,
       "overflow": null,
       "overflow_x": null,
       "overflow_y": null,
       "padding": null,
       "right": null,
       "top": null,
       "visibility": null,
       "width": null
      }
     },
     "7896d9dbb5de41eca0c2c19c21d01865": {
      "model_module": "@jupyter-widgets/controls",
      "model_module_version": "1.5.0",
      "model_name": "HTMLModel",
      "state": {
       "_dom_classes": [],
       "_model_module": "@jupyter-widgets/controls",
       "_model_module_version": "1.5.0",
       "_model_name": "HTMLModel",
       "_view_count": null,
       "_view_module": "@jupyter-widgets/controls",
       "_view_module_version": "1.5.0",
       "_view_name": "HTMLView",
       "description": "",
       "description_tooltip": null,
       "layout": "IPY_MODEL_feb6f810ee0b4f058020e515af1cfab7",
       "placeholder": "​",
       "style": "IPY_MODEL_32216da69ec54687982acac0136a29b5",
       "value": "Processing: 100%"
      }
     },
     "b87cee564e9e4e0a9f64e6c7d6a41952": {
      "model_module": "@jupyter-widgets/controls",
      "model_module_version": "1.5.0",
      "model_name": "ProgressStyleModel",
      "state": {
       "_model_module": "@jupyter-widgets/controls",
       "_model_module_version": "1.5.0",
       "_model_name": "ProgressStyleModel",
       "_view_count": null,
       "_view_module": "@jupyter-widgets/base",
       "_view_module_version": "1.2.0",
       "_view_name": "StyleView",
       "bar_color": null,
       "description_width": ""
      }
     },
     "e06bb6f053624aa0b55bdb87bc6bd25a": {
      "model_module": "@jupyter-widgets/controls",
      "model_module_version": "1.5.0",
      "model_name": "FloatProgressModel",
      "state": {
       "_dom_classes": [],
       "_model_module": "@jupyter-widgets/controls",
       "_model_module_version": "1.5.0",
       "_model_name": "FloatProgressModel",
       "_view_count": null,
       "_view_module": "@jupyter-widgets/controls",
       "_view_module_version": "1.5.0",
       "_view_name": "ProgressView",
       "bar_style": "",
       "description": "",
       "description_tooltip": null,
       "layout": "IPY_MODEL_487079b2cae045b0a0d34e4374ef6154",
       "max": 85,
       "min": 0,
       "orientation": "horizontal",
       "style": "IPY_MODEL_b87cee564e9e4e0a9f64e6c7d6a41952",
       "value": 85
      }
     },
     "f47b17c2d48440b3a2e4b7dba85c9d91": {
      "model_module": "@jupyter-widgets/controls",
      "model_module_version": "1.5.0",
      "model_name": "HBoxModel",
      "state": {
       "_dom_classes": [],
       "_model_module": "@jupyter-widgets/controls",
       "_model_module_version": "1.5.0",
       "_model_name": "HBoxModel",
       "_view_count": null,
       "_view_module": "@jupyter-widgets/controls",
       "_view_module_version": "1.5.0",
       "_view_name": "HBoxView",
       "box_style": "",
       "children": [
        "IPY_MODEL_7896d9dbb5de41eca0c2c19c21d01865",
        "IPY_MODEL_e06bb6f053624aa0b55bdb87bc6bd25a",
        "IPY_MODEL_53a03cde8f7f4aa386c2bce76e936076"
       ],
       "layout": "IPY_MODEL_f8e3439c507e415587ca30b02491e24c"
      }
     },
     "f8e3439c507e415587ca30b02491e24c": {
      "model_module": "@jupyter-widgets/base",
      "model_module_version": "1.2.0",
      "model_name": "LayoutModel",
      "state": {
       "_model_module": "@jupyter-widgets/base",
       "_model_module_version": "1.2.0",
       "_model_name": "LayoutModel",
       "_view_count": null,
       "_view_module": "@jupyter-widgets/base",
       "_view_module_version": "1.2.0",
       "_view_name": "LayoutView",
       "align_content": null,
       "align_items": null,
       "align_self": null,
       "border": null,
       "bottom": null,
       "display": null,
       "flex": null,
       "flex_flow": null,
       "grid_area": null,
       "grid_auto_columns": null,
       "grid_auto_flow": null,
       "grid_auto_rows": null,
       "grid_column": null,
       "grid_gap": null,
       "grid_row": null,
       "grid_template_areas": null,
       "grid_template_columns": null,
       "grid_template_rows": null,
       "height": null,
       "justify_content": null,
       "justify_items": null,
       "left": null,
       "margin": null,
       "max_height": null,
       "max_width": null,
       "min_height": null,
       "min_width": null,
       "object_fit": null,
       "object_position": null,
       "order": null,
       "overflow": null,
       "overflow_x": null,
       "overflow_y": null,
       "padding": null,
       "right": null,
       "top": null,
       "visibility": "hidden",
       "width": null
      }
     },
     "feb6f810ee0b4f058020e515af1cfab7": {
      "model_module": "@jupyter-widgets/base",
      "model_module_version": "1.2.0",
      "model_name": "LayoutModel",
      "state": {
       "_model_module": "@jupyter-widgets/base",
       "_model_module_version": "1.2.0",
       "_model_name": "LayoutModel",
       "_view_count": null,
       "_view_module": "@jupyter-widgets/base",
       "_view_module_version": "1.2.0",
       "_view_name": "LayoutView",
       "align_content": null,
       "align_items": null,
       "align_self": null,
       "border": null,
       "bottom": null,
       "display": null,
       "flex": null,
       "flex_flow": null,
       "grid_area": null,
       "grid_auto_columns": null,
       "grid_auto_flow": null,
       "grid_auto_rows": null,
       "grid_column": null,
       "grid_gap": null,
       "grid_row": null,
       "grid_template_areas": null,
       "grid_template_columns": null,
       "grid_template_rows": null,
       "height": null,
       "justify_content": null,
       "justify_items": null,
       "left": null,
       "margin": null,
       "max_height": null,
       "max_width": null,
       "min_height": null,
       "min_width": null,
       "object_fit": null,
       "object_position": null,
       "order": null,
       "overflow": null,
       "overflow_x": null,
       "overflow_y": null,
       "padding": null,
       "right": null,
       "top": null,
       "visibility": null,
       "width": null
      }
     }
    },
    "version_major": 2,
    "version_minor": 0
   }
  }
 },
 "nbformat": 4,
 "nbformat_minor": 5
}
